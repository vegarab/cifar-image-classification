{
 "cells": [
  {
   "cell_type": "code",
   "execution_count": 31,
   "metadata": {},
   "outputs": [],
   "source": [
    "import keras\n",
    "from keras import layers\n",
    "from keras import models\n",
    "from keras.datasets import cifar10\n",
    "from keras.models import Sequential\n",
    "from keras.models import load_model\n",
    "from keras.layers import Dense, Dropout, Activation, Flatten\n",
    "from keras.layers import Conv2D, MaxPooling2D\n",
    "from keras.models import model_from_json\n",
    "from keras.utils import plot_model\n",
    "import matplotlib.pyplot as plt\n",
    "import numpy as np\n",
    "import os"
   ]
  },
  {
   "cell_type": "code",
   "execution_count": 32,
   "metadata": {},
   "outputs": [],
   "source": [
    "(train_images, train_labels), (test_images, test_labels) = cifar10.load_data()\n",
    "\n",
    "num_classes = 10\n",
    "# Convert class vectors to binary class matrices.\n",
    "train_labels = keras.utils.to_categorical(train_labels, num_classes)\n",
    "test_labels = keras.utils.to_categorical(test_labels, num_classes)\n",
    "\n",
    "model = Sequential()\n",
    "model.add(Conv2D(32, (3, 3), padding='same',\n",
    "                 input_shape=train_images.shape[1:]))\n",
    "model.add(Activation('relu'))\n",
    "model.add(Conv2D(32, (3, 3), padding='same'))\n",
    "model.add(Activation('relu'))\n",
    "model.add(Dropout(0.25))\n",
    "model.add(Flatten())\n",
    "model.add(Dense(num_classes))\n",
    "model.add(Activation('softmax'))"
   ]
  },
  {
   "cell_type": "code",
   "execution_count": 33,
   "metadata": {},
   "outputs": [],
   "source": [
    "# initiate RMSprop optimizer\n",
    "opt = keras.optimizers.rmsprop(lr=0.0001, decay=1e-6)\n",
    "\n",
    "# Let's train the model using RMSprop\n",
    "model.compile(loss='categorical_crossentropy',\n",
    "              optimizer=opt,\n",
    "              metrics=['accuracy'])\n",
    "\n",
    "\n",
    "early_stopping = keras.callbacks.EarlyStopping(monitor='val_loss', patience=2)\n",
    "\n",
    "train_images = train_images.astype('float32')\n",
    "test_images = test_images.astype('float32')\n",
    "train_images /= 255\n",
    "test_images /= 255"
   ]
  },
  {
   "cell_type": "code",
   "execution_count": 36,
   "metadata": {},
   "outputs": [
    {
     "name": "stdout",
     "output_type": "stream",
     "text": [
      "Train on 50000 samples, validate on 10000 samples\n",
      "Epoch 1/40\n",
      "50000/50000 [==============================] - 27s 543us/step - loss: 1.0590 - acc: 0.6361 - val_loss: 1.1340 - val_acc: 0.6058 0s - loss: 1.0597 - acc: 0.63 - ETA: 0s - loss: 1.0596 - acc: 0.63 - ETA: 0s - loss: 1.0595 -\n",
      "Epoch 2/40\n",
      "50000/50000 [==============================] - 27s 539us/step - loss: 1.0270 - acc: 0.6469 - val_loss: 1.1299 - val_acc: 0.6079 ETA: 0s - loss: 1.0\n",
      "Epoch 3/40\n",
      "50000/50000 [==============================] - 28s 552us/step - loss: 0.9996 - acc: 0.6584 - val_loss: 1.1498 - val_acc: 0.5934\n",
      "Epoch 4/40\n",
      "50000/50000 [==============================] - 28s 567us/step - loss: 0.9745 - acc: 0.6667 - val_loss: 1.0891 - val_acc: 0.6193\n",
      "Epoch 5/40\n",
      "50000/50000 [==============================] - 28s 566us/step - loss: 0.9521 - acc: 0.6756 - val_loss: 1.0710 - val_acc: 0.6251\n",
      "Epoch 6/40\n",
      "50000/50000 [==============================] - 30s 607us/step - loss: 0.9312 - acc: 0.6796 - val_loss: 1.0886 - val_acc: 0.6264\n",
      "Epoch 7/40\n",
      "50000/50000 [==============================] - 28s 566us/step - loss: 0.9109 - acc: 0.6885 - val_loss: 1.0481 - val_acc: 0.6317\n",
      "Epoch 8/40\n",
      "50000/50000 [==============================] - 29s 579us/step - loss: 0.8910 - acc: 0.6958 - val_loss: 1.0406 - val_acc: 0.6391\n",
      "Epoch 9/40\n",
      "50000/50000 [==============================] - 29s 572us/step - loss: 0.8722 - acc: 0.7035 - val_loss: 1.0244 - val_acc: 0.6440\n",
      "Epoch 10/40\n",
      "50000/50000 [==============================] - 28s 564us/step - loss: 0.8553 - acc: 0.7094 - val_loss: 1.0367 - val_acc: 0.6394\n",
      "Epoch 11/40\n",
      "50000/50000 [==============================] - 30s 591us/step - loss: 0.8414 - acc: 0.7127 - val_loss: 1.0075 - val_acc: 0.6514\n",
      "Epoch 12/40\n",
      "50000/50000 [==============================] - 29s 579us/step - loss: 0.8259 - acc: 0.7203 - val_loss: 1.0187 - val_acc: 0.6478\n",
      "Epoch 13/40\n",
      "50000/50000 [==============================] - 29s 572us/step - loss: 0.8105 - acc: 0.7251 - val_loss: 1.0200 - val_acc: 0.6503\n",
      "Saved model to disk\n"
     ]
    }
   ],
   "source": [
    "# Train weights\n",
    "if not os.path.isfile(\"simple_model.h5\"):\n",
    "    model.fit(train_images, train_labels,\n",
    "              batch_size=32,\n",
    "              epochs=40,\n",
    "              validation_data=(test_images, test_labels),\n",
    "              shuffle=True,\n",
    "              callbacks=[early_stopping])\n",
    "    # serialize weights to HDF5\n",
    "    model.save_weights(\"simple_model.h5\")\n",
    "    print(\"Saved model to disk\")\n",
    "else:\n",
    "    model.load_weights(\"simple_model.h5\")\n",
    "    print(\"Loaded model from disk\")"
   ]
  },
  {
   "cell_type": "code",
   "execution_count": 37,
   "metadata": {},
   "outputs": [
    {
     "name": "stdout",
     "output_type": "stream",
     "text": [
      "acc: 73.93%\n",
      "_________________________________________________________________\n",
      "Layer (type)                 Output Shape              Param #   \n",
      "=================================================================\n",
      "conv2d_15 (Conv2D)           (None, 32, 32, 32)        896       \n",
      "_________________________________________________________________\n",
      "activation_22 (Activation)   (None, 32, 32, 32)        0         \n",
      "_________________________________________________________________\n",
      "conv2d_16 (Conv2D)           (None, 32, 32, 32)        9248      \n",
      "_________________________________________________________________\n",
      "activation_23 (Activation)   (None, 32, 32, 32)        0         \n",
      "_________________________________________________________________\n",
      "dropout_8 (Dropout)          (None, 32, 32, 32)        0         \n",
      "_________________________________________________________________\n",
      "flatten_8 (Flatten)          (None, 32768)             0         \n",
      "_________________________________________________________________\n",
      "dense_8 (Dense)              (None, 10)                327690    \n",
      "_________________________________________________________________\n",
      "activation_24 (Activation)   (None, 10)                0         \n",
      "=================================================================\n",
      "Total params: 337,834\n",
      "Trainable params: 337,834\n",
      "Non-trainable params: 0\n",
      "_________________________________________________________________\n",
      "None\n"
     ]
    }
   ],
   "source": [
    "# evaluate loaded model on test data\n",
    "model.compile(loss='categorical_crossentropy',\n",
    "                  optimizer=opt,\n",
    "                  metrics=['accuracy'])\n",
    "#loaded_model.compile(loss='binary_crossentropy', optimizer='rmsprop', metrics=['accuracy'])\n",
    "score = model.evaluate(train_images, train_labels, verbose=0)\n",
    "print(\"%s: %.2f%%\" % (model.metrics_names[1], score[1]*100))\n",
    "print(model.summary())"
   ]
  },
  {
   "cell_type": "code",
   "execution_count": null,
   "metadata": {},
   "outputs": [],
   "source": []
  }
 ],
 "metadata": {
  "kernelspec": {
   "display_name": "Python 3",
   "language": "python",
   "name": "python3"
  },
  "language_info": {
   "codemirror_mode": {
    "name": "ipython",
    "version": 3
   },
   "file_extension": ".py",
   "mimetype": "text/x-python",
   "name": "python",
   "nbconvert_exporter": "python",
   "pygments_lexer": "ipython3",
   "version": "3.6.6"
  }
 },
 "nbformat": 4,
 "nbformat_minor": 2
}
